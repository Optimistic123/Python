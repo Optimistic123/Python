{
  "nbformat": 4,
  "nbformat_minor": 0,
  "metadata": {
    "colab": {
      "name": "Assignment 2.ipynb",
      "provenance": [],
      "toc_visible": true,
      "authorship_tag": "ABX9TyMFmqTyQPx3A3aXpP3IK5La",
      "include_colab_link": true
    },
    "kernelspec": {
      "name": "python3",
      "display_name": "Python 3"
    }
  },
  "cells": [
    {
      "cell_type": "markdown",
      "metadata": {
        "id": "view-in-github",
        "colab_type": "text"
      },
      "source": [
        "<a href=\"https://colab.research.google.com/github/Optimistic123/Python/blob/master/Assignment_2.ipynb\" target=\"_parent\"><img src=\"https://colab.research.google.com/assets/colab-badge.svg\" alt=\"Open In Colab\"/></a>"
      ]
    },
    {
      "cell_type": "markdown",
      "metadata": {
        "id": "LVDSNUFZ2DEn",
        "colab_type": "text"
      },
      "source": [
        "#Task 1"
      ]
    },
    {
      "cell_type": "markdown",
      "metadata": {
        "id": "by77ABLIxbZo",
        "colab_type": "text"
      },
      "source": [
        "2.)"
      ]
    },
    {
      "cell_type": "code",
      "metadata": {
        "id": "uUq-i8YLxeSh",
        "colab_type": "code",
        "colab": {
          "base_uri": "https://localhost:8080/",
          "height": 34
        },
        "outputId": "83b1679e-e839-4ccc-9163-85e74c9a9750"
      },
      "source": [
        "s = 'ACADGILD'\n",
        "list_comp =[item for item in s]\n",
        "list_comp"
      ],
      "execution_count": 26,
      "outputs": [
        {
          "output_type": "execute_result",
          "data": {
            "text/plain": [
              "['A', 'C', 'A', 'D', 'G', 'I', 'L', 'D']"
            ]
          },
          "metadata": {
            "tags": []
          },
          "execution_count": 26
        }
      ]
    },
    {
      "cell_type": "code",
      "metadata": {
        "id": "QhSdPLeBvPHY",
        "colab_type": "code",
        "colab": {
          "base_uri": "https://localhost:8080/",
          "height": 34
        },
        "outputId": "c031ef41-d00d-417e-9be3-3e2ad6be14aa"
      },
      "source": [
        "l_1 =['x','y','z']\n",
        "list_comp = [i*a for a in l_1 for i in range(1,5)]\n",
        "list_comp"
      ],
      "execution_count": 27,
      "outputs": [
        {
          "output_type": "execute_result",
          "data": {
            "text/plain": [
              "['x', 'xx', 'xxx', 'xxxx', 'y', 'yy', 'yyy', 'yyyy', 'z', 'zz', 'zzz', 'zzzz']"
            ]
          },
          "metadata": {
            "tags": []
          },
          "execution_count": 27
        }
      ]
    },
    {
      "cell_type": "code",
      "metadata": {
        "id": "xUlJ8icyv3lb",
        "colab_type": "code",
        "colab": {
          "base_uri": "https://localhost:8080/",
          "height": 34
        },
        "outputId": "d0a30a80-fbf4-4955-fe38-62bd08113638"
      },
      "source": [
        "l_1 =['x','y','z']\n",
        "list_comp = [i*a for i in range(1,5) for a in l_1]\n",
        "list_comp"
      ],
      "execution_count": 29,
      "outputs": [
        {
          "output_type": "execute_result",
          "data": {
            "text/plain": [
              "['x', 'y', 'z', 'xx', 'yy', 'zz', 'xxx', 'yyy', 'zzz', 'xxxx', 'yyyy', 'zzzz']"
            ]
          },
          "metadata": {
            "tags": []
          },
          "execution_count": 29
        }
      ]
    },
    {
      "cell_type": "code",
      "metadata": {
        "id": "4qf2H7ZgyEBY",
        "colab_type": "code",
        "colab": {
          "base_uri": "https://localhost:8080/",
          "height": 34
        },
        "outputId": "98b6abec-0126-494e-ca8c-54e1c04bac6d"
      },
      "source": [
        "s='234'\n",
        "list_comp = [[int(x)+ num] for x in s for num in range(0,3) ]\n",
        "list_comp"
      ],
      "execution_count": 33,
      "outputs": [
        {
          "output_type": "execute_result",
          "data": {
            "text/plain": [
              "[[2], [3], [4], [3], [4], [5], [4], [5], [6]]"
            ]
          },
          "metadata": {
            "tags": []
          },
          "execution_count": 33
        }
      ]
    },
    {
      "cell_type": "code",
      "metadata": {
        "id": "Q7y9MCflynOW",
        "colab_type": "code",
        "colab": {
          "base_uri": "https://localhost:8080/",
          "height": 34
        },
        "outputId": "134ce270-72a0-447e-c539-7445bb4aea43"
      },
      "source": [
        "s='2345'\n",
        "list_comp = [[int(x) + num for x in s] for num in range(0,4)]\n",
        "list_comp"
      ],
      "execution_count": 36,
      "outputs": [
        {
          "output_type": "execute_result",
          "data": {
            "text/plain": [
              "[[2, 3, 4, 5], [3, 4, 5, 6], [4, 5, 6, 7], [5, 6, 7, 8]]"
            ]
          },
          "metadata": {
            "tags": []
          },
          "execution_count": 36
        }
      ]
    },
    {
      "cell_type": "code",
      "metadata": {
        "id": "6sX1WvZG0N4X",
        "colab_type": "code",
        "colab": {
          "base_uri": "https://localhost:8080/",
          "height": 34
        },
        "outputId": "fdf10721-887b-4e82-a9bf-046822ee024c"
      },
      "source": [
        "l_1 =[1,2,3]\n",
        "list_comp = [(i,num) for i in l_1 for num in range(1,4)]\n",
        "list_comp"
      ],
      "execution_count": 40,
      "outputs": [
        {
          "output_type": "execute_result",
          "data": {
            "text/plain": [
              "[(1, 1), (1, 2), (1, 3), (2, 1), (2, 2), (2, 3), (3, 1), (3, 2), (3, 3)]"
            ]
          },
          "metadata": {
            "tags": []
          },
          "execution_count": 40
        }
      ]
    },
    {
      "cell_type": "markdown",
      "metadata": {
        "id": "ViHwubbQ1Rnm",
        "colab_type": "text"
      },
      "source": [
        "#3."
      ]
    },
    {
      "cell_type": "code",
      "metadata": {
        "id": "tg03D5eR1Fix",
        "colab_type": "code",
        "colab": {}
      },
      "source": [
        "def longest_word(l):\n",
        "    length = 0\n",
        "    for item in l:\n",
        "        if len(item) >length:\n",
        "            length = len(item)\n",
        "    return length"
      ],
      "execution_count": 0,
      "outputs": []
    },
    {
      "cell_type": "code",
      "metadata": {
        "id": "q-DNzOTZ1tbR",
        "colab_type": "code",
        "colab": {
          "base_uri": "https://localhost:8080/",
          "height": 34
        },
        "outputId": "84e9b38d-0171-41e5-8b2e-b1142f2dfa30"
      },
      "source": [
        "longest_word(['manish','kumar','kajal','stayamrajapal'])"
      ],
      "execution_count": 44,
      "outputs": [
        {
          "output_type": "execute_result",
          "data": {
            "text/plain": [
              "13"
            ]
          },
          "metadata": {
            "tags": []
          },
          "execution_count": 44
        }
      ]
    },
    {
      "cell_type": "markdown",
      "metadata": {
        "id": "ZXpj1GkX2Lee",
        "colab_type": "text"
      },
      "source": [
        "#Task 2"
      ]
    },
    {
      "cell_type": "markdown",
      "metadata": {
        "id": "ha4CLMh55yoX",
        "colab_type": "text"
      },
      "source": [
        "1.1)"
      ]
    },
    {
      "cell_type": "code",
      "metadata": {
        "id": "QvcQb7eK13Wj",
        "colab_type": "code",
        "colab": {}
      },
      "source": [
        "class Area:\n",
        "    def __init__(self,a,b,c):\n",
        "        self.a = a\n",
        "        self.b = b\n",
        "        self.c = c\n",
        "\n",
        "    def area(self):\n",
        "        s=(self.a + self.b + self.c)/2\n",
        "        d =s*(s-self.a)*(s-self.b)*(s-self.c)\n",
        "        return pow(d,0.5)"
      ],
      "execution_count": 0,
      "outputs": []
    },
    {
      "cell_type": "code",
      "metadata": {
        "id": "GfJ7J7tS3DZU",
        "colab_type": "code",
        "colab": {}
      },
      "source": [
        "tra = Area(4,5,6)"
      ],
      "execution_count": 0,
      "outputs": []
    },
    {
      "cell_type": "code",
      "metadata": {
        "id": "hvlBgXgG3G7P",
        "colab_type": "code",
        "colab": {
          "base_uri": "https://localhost:8080/",
          "height": 34
        },
        "outputId": "036d8933-e5df-4387-dc53-8b0773f1f00b"
      },
      "source": [
        "tra.area()"
      ],
      "execution_count": 74,
      "outputs": [
        {
          "output_type": "execute_result",
          "data": {
            "text/plain": [
              "9.921567416492215"
            ]
          },
          "metadata": {
            "tags": []
          },
          "execution_count": 74
        }
      ]
    },
    {
      "cell_type": "markdown",
      "metadata": {
        "id": "gHUV2xAx51rV",
        "colab_type": "text"
      },
      "source": [
        "1.2)"
      ]
    },
    {
      "cell_type": "code",
      "metadata": {
        "id": "m6N4sXLe3zcs",
        "colab_type": "code",
        "colab": {}
      },
      "source": [
        "def filter_long_word(l,n):\n",
        "    l1=[]\n",
        "    for item in l:\n",
        "        if len(item) > n:\n",
        "            l1.append(item)\n",
        "    return l1"
      ],
      "execution_count": 0,
      "outputs": []
    },
    {
      "cell_type": "code",
      "metadata": {
        "id": "-l6kprYC6frW",
        "colab_type": "code",
        "colab": {
          "base_uri": "https://localhost:8080/",
          "height": 34
        },
        "outputId": "3940f8af-4367-4a6d-a756-37faa59feb8f"
      },
      "source": [
        "filter_long_word(['om','sree','krishna','manish'],4)"
      ],
      "execution_count": 82,
      "outputs": [
        {
          "output_type": "execute_result",
          "data": {
            "text/plain": [
              "['krishna', 'manish']"
            ]
          },
          "metadata": {
            "tags": []
          },
          "execution_count": 82
        }
      ]
    },
    {
      "cell_type": "markdown",
      "metadata": {
        "id": "KhDEBSW87FKO",
        "colab_type": "text"
      },
      "source": [
        "2.1)"
      ]
    },
    {
      "cell_type": "code",
      "metadata": {
        "id": "TW882tsy6pvq",
        "colab_type": "code",
        "colab": {}
      },
      "source": [
        "def map_length(l):\n",
        "    l1=[]\n",
        "    for item in l:\n",
        "        l1.append(len(item))\n",
        "    return l1"
      ],
      "execution_count": 0,
      "outputs": []
    },
    {
      "cell_type": "code",
      "metadata": {
        "id": "yJC-BcuK7ZZ4",
        "colab_type": "code",
        "colab": {
          "base_uri": "https://localhost:8080/",
          "height": 34
        },
        "outputId": "5ba61a09-2a49-41f5-8f17-98ae48165bb0"
      },
      "source": [
        "map_length(['ab','cde','erty'])"
      ],
      "execution_count": 88,
      "outputs": [
        {
          "output_type": "execute_result",
          "data": {
            "text/plain": [
              "[2, 3, 4]"
            ]
          },
          "metadata": {
            "tags": []
          },
          "execution_count": 88
        }
      ]
    },
    {
      "cell_type": "markdown",
      "metadata": {
        "id": "x66fc_PF7xJ9",
        "colab_type": "text"
      },
      "source": [
        "2.2)"
      ]
    },
    {
      "cell_type": "code",
      "metadata": {
        "id": "EEo-O_br7gvW",
        "colab_type": "code",
        "colab": {}
      },
      "source": [
        "def is_vowel(l):\n",
        "    if l in 'aeiou' or 'AEIOU':\n",
        "        return True\n",
        "    else:\n",
        "        return False"
      ],
      "execution_count": 0,
      "outputs": []
    },
    {
      "cell_type": "code",
      "metadata": {
        "id": "vx6Ky0Pa8TNd",
        "colab_type": "code",
        "colab": {
          "base_uri": "https://localhost:8080/",
          "height": 34
        },
        "outputId": "dd5d416f-b5c6-47f4-ab96-5a637a025e23"
      },
      "source": [
        "is_vowel('e')"
      ],
      "execution_count": 93,
      "outputs": [
        {
          "output_type": "execute_result",
          "data": {
            "text/plain": [
              "True"
            ]
          },
          "metadata": {
            "tags": []
          },
          "execution_count": 93
        }
      ]
    },
    {
      "cell_type": "code",
      "metadata": {
        "id": "gq5ageDD8fE-",
        "colab_type": "code",
        "colab": {}
      },
      "source": [
        ""
      ],
      "execution_count": 0,
      "outputs": []
    }
  ]
}