{
  "nbformat": 4,
  "nbformat_minor": 0,
  "metadata": {
    "colab": {
      "name": "Assignment 3.ipynb",
      "provenance": [],
      "authorship_tag": "ABX9TyOlxNj4z2yJFsHHLc8YyPRR",
      "include_colab_link": true
    },
    "kernelspec": {
      "name": "python3",
      "display_name": "Python 3"
    }
  },
  "cells": [
    {
      "cell_type": "markdown",
      "metadata": {
        "id": "view-in-github",
        "colab_type": "text"
      },
      "source": [
        "<a href=\"https://colab.research.google.com/github/Optimistic123/Python/blob/master/Assignment_3.ipynb\" target=\"_parent\"><img src=\"https://colab.research.google.com/assets/colab-badge.svg\" alt=\"Open In Colab\"/></a>"
      ]
    },
    {
      "cell_type": "markdown",
      "metadata": {
        "id": "4V6-P9JC_ZTu",
        "colab_type": "text"
      },
      "source": [
        "#1."
      ]
    },
    {
      "cell_type": "code",
      "metadata": {
        "id": "1RotPFbx_UvT",
        "colab_type": "code",
        "colab": {}
      },
      "source": [
        "def division(a,b):\n",
        "    try:\n",
        "        return a / b\n",
        "    except Exception as e:\n",
        "        print(e,',' 'please give proper input')"
      ],
      "execution_count": 0,
      "outputs": []
    },
    {
      "cell_type": "code",
      "metadata": {
        "id": "gkh9Sx7k_7ZD",
        "colab_type": "code",
        "outputId": "603461d3-15b1-437e-e6cf-4638aef8c052",
        "colab": {
          "base_uri": "https://localhost:8080/",
          "height": 34
        }
      },
      "source": [
        "division(5,0)"
      ],
      "execution_count": 0,
      "outputs": [
        {
          "output_type": "stream",
          "text": [
            "division by zero ,please give proper input\n"
          ],
          "name": "stdout"
        }
      ]
    },
    {
      "cell_type": "markdown",
      "metadata": {
        "id": "aZeGp9eEBAi3",
        "colab_type": "text"
      },
      "source": [
        "#2."
      ]
    },
    {
      "cell_type": "code",
      "metadata": {
        "id": "9Ua8Dn0T__fD",
        "colab_type": "code",
        "colab": {}
      },
      "source": [
        "subjects = ['American','Indian']\n",
        "verbs = ['play','watch']\n",
        "objectss = ['baseball','cricket']"
      ],
      "execution_count": 0,
      "outputs": []
    },
    {
      "cell_type": "code",
      "metadata": {
        "id": "krccR-5fBTIM",
        "colab_type": "code",
        "outputId": "9c6f7973-7d8a-4b51-b1a0-43e2f4863ccc",
        "colab": {
          "base_uri": "https://localhost:8080/",
          "height": 151
        }
      },
      "source": [
        "for subject in subjects:\n",
        "    for verb in verbs:\n",
        "        for objects in objectss:\n",
        "            print(subject +' ' + verb +' ' + objects)"
      ],
      "execution_count": 0,
      "outputs": [
        {
          "output_type": "stream",
          "text": [
            "American play baseball\n",
            "American play cricket\n",
            "American watch baseball\n",
            "American watch cricket\n",
            "Indian play baseball\n",
            "Indian play cricket\n",
            "Indian watch baseball\n",
            "Indian watch cricket\n"
          ],
          "name": "stdout"
        }
      ]
    },
    {
      "cell_type": "markdown",
      "metadata": {
        "id": "iyqw70RICLQF",
        "colab_type": "text"
      },
      "source": [
        "#3."
      ]
    },
    {
      "cell_type": "code",
      "metadata": {
        "id": "rqYmUVgCB50C",
        "colab_type": "code",
        "colab": {}
      },
      "source": [
        ""
      ],
      "execution_count": 0,
      "outputs": []
    }
  ]
}